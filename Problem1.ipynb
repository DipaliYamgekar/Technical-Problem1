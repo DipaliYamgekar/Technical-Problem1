{
 "cells": [
  {
   "cell_type": "code",
   "execution_count": 4,
   "id": "32ed1c9a",
   "metadata": {},
   "outputs": [
    {
     "name": "stdout",
     "output_type": "stream",
     "text": [
      "['1', '2', '3', '4'] ['great', 'abc', 'hello', 'hiyo']\n"
     ]
    }
   ],
   "source": [
    "def Sort_Tuple(lst1): \n",
    "   \n",
    "\n",
    "    lst1.sort(key = lambda x: x[-1]) \n",
    "    return lst1 \n",
    "  \n",
    "lst1=['2','4','1','3',]\n",
    "lst2 = ['great','hello','hiyo','abc'] \n",
    "\n",
    "\n",
    "lst2.sort(key=lambda x:x[-2])\n",
    "print((Sort_Tuple(lst1)),lst2)"
   ]
  },
  {
   "cell_type": "code",
   "execution_count": null,
   "id": "ac7ac71a",
   "metadata": {},
   "outputs": [],
   "source": []
  }
 ],
 "metadata": {
  "kernelspec": {
   "display_name": "Python 3 (ipykernel)",
   "language": "python",
   "name": "python3"
  },
  "language_info": {
   "codemirror_mode": {
    "name": "ipython",
    "version": 3
   },
   "file_extension": ".py",
   "mimetype": "text/x-python",
   "name": "python",
   "nbconvert_exporter": "python",
   "pygments_lexer": "ipython3",
   "version": "3.9.12"
  }
 },
 "nbformat": 4,
 "nbformat_minor": 5
}
